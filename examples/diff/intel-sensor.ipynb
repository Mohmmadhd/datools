{
 "cells": [
  {
   "cell_type": "code",
   "execution_count": 3,
   "id": "087dd353-4303-4d31-8ed6-a26af1e63825",
   "metadata": {},
   "outputs": [],
   "source": [
    "import sys\n",
    "!{sys.executable} -m pip install sqlite-utils"
   ]
  },
  {
   "cell_type": "code",
   "execution_count": 10,
   "id": "9a5f86e3-548c-4154-8e76-23ee5e5b9fa2",
   "metadata": {},
   "outputs": [
    {
     "name": "stdout",
     "output_type": "stream",
     "text": [
      "--2021-11-21 15:52:03--  http://db.csail.mit.edu/labdata/data.txt.gz\n",
      "Resolving db.csail.mit.edu (db.csail.mit.edu)... 128.52.128.91\n",
      "Connecting to db.csail.mit.edu (db.csail.mit.edu)|128.52.128.91|:80... connected.\n",
      "HTTP request sent, awaiting response... 200 OK\n",
      "Length: 34422518 (33M) [application/x-gzip]\n",
      "Saving to: ‘data.txt.gz’\n",
      "\n",
      "data.txt.gz         100%[===================>]  32.83M   158MB/s    in 0.2s    \n",
      "\n",
      "2021-11-21 15:52:03 (158 MB/s) - ‘data.txt.gz’ saved [34422518/34422518]\n",
      "\n",
      "day time_of_day epoch moteid temperature humidity light voltage\n",
      "2004-03-31 03:38:15.757551 2 1 122.153 -3.91901 11.04 2.03397\n",
      "2004-02-28 00:59:16.02785 3 1 19.9884 37.0933 45.08 2.69964\n",
      "2004-02-28 01:03:16.33393 11 1 19.3024 38.4629 45.08 2.68742\n",
      "2004-02-28 01:06:16.013453 17 1 19.1652 38.8039 45.08 2.68742\n",
      "2004-02-28 01:06:46.778088 18 1 19.175 38.8379 45.08 2.69964\n",
      "2004-02-28 01:08:45.992524 22 1 19.1456 38.9401 45.08 2.68742\n",
      "2004-02-28 01:09:22.323858 23 1 19.1652 38.872 45.08 2.68742\n",
      "2004-02-28 01:09:46.109598 24 1 19.1652 38.8039 45.08 2.68742\n",
      "2004-02-28 01:10:16.6789 25 1 19.1456 38.8379 45.08 2.69964\n"
     ]
    }
   ],
   "source": [
    "!wget http://db.csail.mit.edu/labdata/data.txt.gz\n",
    "!gunzip data.txt.gz\n",
    "!sed -i '1s/^/day time_of_day epoch moteid temperature humidity light voltage\\n/' data.txt\n",
    "!head data.txt"
   ]
  },
  {
   "cell_type": "code",
   "execution_count": 11,
   "id": "55251c8c-f3d8-4f14-b1d4-84df3ec1bf1e",
   "metadata": {},
   "outputs": [
    {
     "name": "stdout",
     "output_type": "stream",
     "text": [
      "\u001b[?25l  [####################################]  100%          "
     ]
    }
   ],
   "source": [
    "!sqlite-utils insert intel-sensor.sqlite readings data.txt --csv --sniff --detect-types"
   ]
  },
  {
   "cell_type": "code",
   "execution_count": 18,
   "id": "aa043c09-6041-480e-a9f6-6c52346de237",
   "metadata": {},
   "outputs": [
    {
     "name": "stdout",
     "output_type": "stream",
     "text": [
      "CREATE TABLE \"readings\" (\n",
      "   [day] TEXT,\n",
      "   [time_of_day] TEXT,\n",
      "   [epoch] INTEGER,\n",
      "   [moteid] INTEGER,\n",
      "   [temperature] FLOAT,\n",
      "   [humidity] FLOAT,\n",
      "   [light] FLOAT,\n",
      "   [voltage] FLOAT\n",
      ");\n"
     ]
    }
   ],
   "source": [
    "!sqlite-utils schema intel-sensor.sqlite"
   ]
  },
  {
   "cell_type": "code",
   "execution_count": 20,
   "id": "ffe2eb30-8b51-481b-9d9f-7e101b898c02",
   "metadata": {},
   "outputs": [],
   "source": [
    "from sqlalchemy import create_engine\n",
    "from datools.explanation.algorithms import diff\n",
    "from datools.models import Column\n",
    "from datools.sqlalchemy_utils import query_results_pretty_print\n",
    "\n",
    "engine = create_engine('sqlite:///intel-sensor.sqlite')"
   ]
  },
  {
   "cell_type": "markdown",
   "id": "1605c176-f89a-487a-8d5b-4f3a75dd8ed1",
   "metadata": {},
   "source": [
    "## Including range-balued attributes doesn't replicate the Scorpion paper\n",
    "The current implementation only handles equality predicates, so range-valued attributes like humidity, light, voltage get an \"advantage\" because specific values of those measurements likely also highly correlate with failing motes. Still, moteid=15 (the one identified in the paper) is the 4th top explanation, behind voltage/humidity/voltage."
   ]
  },
  {
   "cell_type": "code",
   "execution_count": 23,
   "id": "8ce80ccc-7b9e-4936-8fea-19be597ae4d2",
   "metadata": {},
   "outputs": [
    {
     "name": "stdout",
     "output_type": "stream",
     "text": [
      "Explanation(predicates=(Predicate(left=Column(name='voltage'), operator=<Operator.EQUALS: 1>, right=2.32),), risk_ratio=732.5350873788292)\n",
      "Explanation(predicates=(Predicate(left=Column(name='humidity'), operator=<Operator.EQUALS: 1>, right=-3.91901),), risk_ratio=581.896923076923)\n",
      "Explanation(predicates=(Predicate(left=Column(name='voltage'), operator=<Operator.EQUALS: 1>, right=2.31097),), risk_ratio=413.2085152838428)\n",
      "Explanation(predicates=(Predicate(left=Column(name='moteid'), operator=<Operator.EQUALS: 1>, right=15),), risk_ratio=404.8320855614973)\n",
      "Explanation(predicates=(Predicate(left=Column(name='humidity'), operator=<Operator.EQUALS: 1>, right=-4.0),), risk_ratio=375.40059494298464)\n",
      "Explanation(predicates=(Predicate(left=Column(name='voltage'), operator=<Operator.EQUALS: 1>, right=2.30202),), risk_ratio=361.1173104434907)\n",
      "Explanation(predicates=(Predicate(left=Column(name='voltage'), operator=<Operator.EQUALS: 1>, right=2.3291),), risk_ratio=269.18333022781434)\n",
      "Explanation(predicates=(Predicate(left=Column(name='moteid'), operator=<Operator.EQUALS: 1>, right=18),), risk_ratio=200.5765335449176)\n",
      "Explanation(predicates=(Predicate(left=Column(name='light'), operator=<Operator.EQUALS: 1>, right=71.76),), risk_ratio=26.922877014495967)\n",
      "Explanation(predicates=(Predicate(left=Column(name='light'), operator=<Operator.EQUALS: 1>, right=68.08),), risk_ratio=16.867242674382098)\n",
      "Explanation(predicates=(Predicate(left=Column(name='light'), operator=<Operator.EQUALS: 1>, right=537.28),), risk_ratio=12.56113497197281)\n",
      "Explanation(predicates=(Predicate(left=Column(name='light'), operator=<Operator.EQUALS: 1>, right=566.72),), risk_ratio=7.279380534662825)\n",
      "Explanation(predicates=(Predicate(left=Column(name='light'), operator=<Operator.EQUALS: 1>, right=478.4),), risk_ratio=4.586557778208101)\n",
      "Explanation(predicates=(Predicate(left=Column(name='light'), operator=<Operator.EQUALS: 1>, right=''),), risk_ratio=3.6670256503815586)\n"
     ]
    }
   ],
   "source": [
    "candidates = diff(\n",
    "        engine=engine,\n",
    "        test_relation='SELECT moteid, temperature, humidity, light, voltage FROM readings WHERE temperature > 100 AND day > \"2004-03-01\" and day < \"2004-03-10\"',\n",
    "        control_relation='SELECT moteid, temperature, humidity, light, voltage FROM readings WHERE temperature <= 100 AND day > \"2004-03-01\" and day < \"2004-03-10\"',\n",
    "        on_columns=(Column('moteid'), Column('humidity'), Column('light'), Column('voltage'),),\n",
    "        min_support=0.05,\n",
    "        min_risk_ratio=2.0,\n",
    "        max_order=1)\n",
    "for candidate in candidates:\n",
    "    print(candidate)"
   ]
  },
  {
   "cell_type": "markdown",
   "id": "21aa139b-169d-41d8-82ae-0ebbed92fc8d",
   "metadata": {},
   "source": [
    "# When only considering moteids, we replicate the Scorpion paper\n",
    "If we only consider moteid (the only set-valued attribute), the Scorpion result replicates: moteid=15 is the offender!"
   ]
  },
  {
   "cell_type": "code",
   "execution_count": 22,
   "id": "8ccd3535-c43a-448b-86f1-023dcfb2cf76",
   "metadata": {},
   "outputs": [
    {
     "name": "stdout",
     "output_type": "stream",
     "text": [
      "Explanation(predicates=(Predicate(left=Column(name='moteid'), operator=<Operator.EQUALS: 1>, right=15),), risk_ratio=404.8320855614973)\n",
      "Explanation(predicates=(Predicate(left=Column(name='moteid'), operator=<Operator.EQUALS: 1>, right=18),), risk_ratio=200.5765335449176)\n"
     ]
    }
   ],
   "source": [
    "candidates = diff(\n",
    "        engine=engine,\n",
    "        test_relation='SELECT moteid, temperature, humidity, light, voltage FROM readings WHERE temperature > 100 AND day > \"2004-03-01\" and day < \"2004-03-10\"',\n",
    "        control_relation='SELECT moteid, temperature, humidity, light, voltage FROM readings WHERE temperature <= 100 AND day > \"2004-03-01\" and day < \"2004-03-10\"',\n",
    "        on_columns=(Column('moteid'),),\n",
    "        min_support=0.05,\n",
    "        min_risk_ratio=2.0,\n",
    "        max_order=1)\n",
    "for candidate in candidates:\n",
    "    print(candidate)"
   ]
  },
  {
   "cell_type": "code",
   "execution_count": 9,
   "id": "0806130b-5799-4b68-be14-9d46eb4e5ea5",
   "metadata": {},
   "outputs": [
    {
     "name": "stdout",
     "output_type": "stream",
     "text": [
      "rm: cannot remove 'data.txt*': No such file or directory\n",
      "rm: cannot remove 'intel-sensor.sqlite*': No such file or directory\n"
     ]
    }
   ],
   "source": [
    "!rm data.txt* intel-sensor.sqlite*"
   ]
  }
 ],
 "metadata": {
  "kernelspec": {
   "display_name": "Python 3 (ipykernel)",
   "language": "python",
   "name": "python3"
  },
  "language_info": {
   "codemirror_mode": {
    "name": "ipython",
    "version": 3
   },
   "file_extension": ".py",
   "mimetype": "text/x-python",
   "name": "python",
   "nbconvert_exporter": "python",
   "pygments_lexer": "ipython3",
   "version": "3.8.10"
  }
 },
 "nbformat": 4,
 "nbformat_minor": 5
}
