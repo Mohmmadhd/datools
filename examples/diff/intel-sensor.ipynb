{
 "cells": [
  {
   "cell_type": "markdown",
   "id": "f7033361-d7b8-4cce-90a0-cc37bf2c37d8",
   "metadata": {},
   "source": [
    "## Intro and Dataset\n",
    "This is the first ever real-world usage of the datools DIFF algorithm [1]. I'm trying to replicate the experiments in the Scorpion paper [2] using the Intel Sensor dataset [3].\n",
    "\n",
    "In the Scorpion paper Sections 8.1 and 8.4, the system detects when various sensors (motes) placed throughout a lab detect too-high temperature values. The paper gives clear explanations, but not all of the details (like which time ranges the anomalies occur). Luckily, the experiments are publicly accessible [4], and I'm guessing they happen between 2004-03-01 and 2004-03-10. Let's see what happens when we run DIFF against the dataset.\n",
    "\n",
    "[1] DIFF: A Relational Interface for Large-Scale Data Explanation\n",
    "    by Firas Abuzaid, Peter Kraft, Sahaana Suri, Edward Gan,\n",
    "    Eric Xu, Atul Shenoy, Asvin Ananthanarayan, John Sheu,\n",
    "    Erik Meijer, Xi Wu, Jeff Naughton, Peter Bailis, and Matei Zaharia.\n",
    "    http://www.bailis.org/papers/diff-vldb2019.pdf\n",
    "    \n",
    "[2] Scorpion: explaining away outliers in aggregate queries.\n",
    "    by Eugene Wu and Samuel Madden.\n",
    "    https://dspace.mit.edu/bitstream/handle/1721.1/89076/scorpion-vldb13.pdf\n",
    "    \n",
    "[3] Intel Lab Data\n",
    "    by Samuel Madden, Peter Bodik, Wei Hong, Carlos Guestrin, \n",
    "    Mark Paskin, and Romain Thibaux\n",
    "    http://db.csail.mit.edu/labdata/labdata.html\n",
    "    As an aside, the dataset is 17 (!!!) years old, from before I started grad school. Wow!\n",
    "\n",
    "[4] Scorpion experiments\n",
    "    by Eugene Wu and Samuel Madden\n",
    "    https://github.com/sirrice/scorpion/blob/ba1af715ebc33bc4c4a63612d63debd8650ee1cf/scorpion/tests/gentestdata.py#L80\n",
    "    (At least the part I think I care about)"
   ]
  },
  {
   "cell_type": "code",
   "execution_count": 10,
   "id": "9a5f86e3-548c-4154-8e76-23ee5e5b9fa2",
   "metadata": {},
   "outputs": [
    {
     "name": "stdout",
     "output_type": "stream",
     "text": [
      "--2021-11-21 15:52:03--  http://db.csail.mit.edu/labdata/data.txt.gz\n",
      "Resolving db.csail.mit.edu (db.csail.mit.edu)... 128.52.128.91\n",
      "Connecting to db.csail.mit.edu (db.csail.mit.edu)|128.52.128.91|:80... connected.\n",
      "HTTP request sent, awaiting response... 200 OK\n",
      "Length: 34422518 (33M) [application/x-gzip]\n",
      "Saving to: ‘data.txt.gz’\n",
      "\n",
      "data.txt.gz         100%[===================>]  32.83M   158MB/s    in 0.2s    \n",
      "\n",
      "2021-11-21 15:52:03 (158 MB/s) - ‘data.txt.gz’ saved [34422518/34422518]\n",
      "\n",
      "day time_of_day epoch moteid temperature humidity light voltage\n",
      "2004-03-31 03:38:15.757551 2 1 122.153 -3.91901 11.04 2.03397\n",
      "2004-02-28 00:59:16.02785 3 1 19.9884 37.0933 45.08 2.69964\n",
      "2004-02-28 01:03:16.33393 11 1 19.3024 38.4629 45.08 2.68742\n",
      "2004-02-28 01:06:16.013453 17 1 19.1652 38.8039 45.08 2.68742\n",
      "2004-02-28 01:06:46.778088 18 1 19.175 38.8379 45.08 2.69964\n",
      "2004-02-28 01:08:45.992524 22 1 19.1456 38.9401 45.08 2.68742\n",
      "2004-02-28 01:09:22.323858 23 1 19.1652 38.872 45.08 2.68742\n",
      "2004-02-28 01:09:46.109598 24 1 19.1652 38.8039 45.08 2.68742\n",
      "2004-02-28 01:10:16.6789 25 1 19.1456 38.8379 45.08 2.69964\n"
     ]
    }
   ],
   "source": [
    "!wget http://db.csail.mit.edu/labdata/data.txt.gz\n",
    "!gunzip data.txt.gz\n",
    "!sed -i '1s/^/day time_of_day epoch moteid temperature humidity light voltage\\n/' data.txt\n",
    "!head data.txt"
   ]
  },
  {
   "cell_type": "markdown",
   "id": "5a3116eb-86de-4fb5-ac18-e7542657afd2",
   "metadata": {},
   "source": [
    "## Import the dataset into SQLite"
   ]
  },
  {
   "cell_type": "code",
   "execution_count": null,
   "id": "087dd353-4303-4d31-8ed6-a26af1e63825",
   "metadata": {},
   "outputs": [],
   "source": [
    "import sys\n",
    "!{sys.executable} -m pip install sqlite-utils"
   ]
  },
  {
   "cell_type": "code",
   "execution_count": 11,
   "id": "55251c8c-f3d8-4f14-b1d4-84df3ec1bf1e",
   "metadata": {},
   "outputs": [
    {
     "name": "stdout",
     "output_type": "stream",
     "text": [
      "\u001b[?25l  [####################################]  100%          "
     ]
    }
   ],
   "source": [
    "!sqlite-utils insert intel-sensor.sqlite readings data.txt --csv --sniff --detect-types"
   ]
  },
  {
   "cell_type": "code",
   "execution_count": 26,
   "id": "aa043c09-6041-480e-a9f6-6c52346de237",
   "metadata": {},
   "outputs": [
    {
     "name": "stdout",
     "output_type": "stream",
     "text": [
      "CREATE TABLE \"readings\" (\n",
      "   [day] TEXT,\n",
      "   [time_of_day] TEXT,\n",
      "   [epoch] INTEGER,\n",
      "   [moteid] INTEGER,\n",
      "   [temperature] FLOAT,\n",
      "   [humidity] FLOAT,\n",
      "   [light] FLOAT,\n",
      "   [voltage] FLOAT\n",
      ");\n"
     ]
    }
   ],
   "source": [
    "!sqlite-utils schema intel-sensor.sqlite"
   ]
  },
  {
   "cell_type": "markdown",
   "id": "21aa139b-169d-41d8-82ae-0ebbed92fc8d",
   "metadata": {},
   "source": [
    "# When only considering moteids, we replicate the Scorpion paper\n",
    "If we only consider moteid (the only set-valued attribute), the Scorpion result replicates: `moteid = 15` is the offender! Per the paper:\n",
    "> For the first INTEL workload, the outliers are generated by Sensor 15, so Scorpion consistently returns the predicate sensorid = 15."
   ]
  },
  {
   "cell_type": "code",
   "execution_count": 7,
   "id": "ffe2eb30-8b51-481b-9d9f-7e101b898c02",
   "metadata": {},
   "outputs": [],
   "source": [
    "from sqlalchemy import create_engine\n",
    "from datools.explanation.algorithms import diff\n",
    "from datools.models import Column\n",
    "from datools.sqlalchemy_utils import query_results_pretty_print\n",
    "\n",
    "engine = create_engine('sqlite:///intel-sensor.sqlite')"
   ]
  },
  {
   "cell_type": "code",
   "execution_count": 8,
   "id": "8ccd3535-c43a-448b-86f1-023dcfb2cf76",
   "metadata": {},
   "outputs": [
    {
     "name": "stdout",
     "output_type": "stream",
     "text": [
      "Explanation(predicates=(Predicate(moteid EQUALS 15),), risk_ratio=404.8320855614973)\n",
      "Explanation(predicates=(Predicate(moteid EQUALS 18),), risk_ratio=200.5765335449176)\n"
     ]
    }
   ],
   "source": [
    "candidates = diff(\n",
    "        engine=engine,\n",
    "        test_relation='SELECT moteid, temperature, humidity, light, voltage FROM readings WHERE temperature > 100 AND day > \"2004-03-01\" and day < \"2004-03-10\"',\n",
    "        control_relation='SELECT moteid, temperature, humidity, light, voltage FROM readings WHERE temperature <= 100 AND day > \"2004-03-01\" and day < \"2004-03-10\"',\n",
    "        on_column_values={Column('moteid'),},\n",
    "        on_column_ranges={},\n",
    "        min_support=0.05,\n",
    "        min_risk_ratio=2.0,\n",
    "        max_order=1)\n",
    "for candidate in candidates:\n",
    "    print(candidate)"
   ]
  },
  {
   "cell_type": "markdown",
   "id": "1605c176-f89a-487a-8d5b-4f3a75dd8ed1",
   "metadata": {
    "tags": []
   },
   "source": [
    "## Including range-balued attributes, the implementation can't yet replicate the Scorpion paper\n",
    "In the Scorpion paper, the authors also consider columns beyond moteid:\n",
    "\n",
    ">  However, when c approaches 1, Scorpion generates the predicate, light ∈ [0, 923] & voltage ∈ [2.307, 2.33] & sensorid = 15.\n",
    "\n",
    "The DIFF implementation doesn't yet support combinations of more than one column (`max_order > 1`). It does support range-valued attributes like humidity/light/voltage via the `on_column_ranges` attribute. The Scorpion paper transforms these attributes  into 15 bucketed ranges:\n",
    "\n",
    "> \"The Naive and MC partitioner algorithms were configured to split each continuous attribute’s domain into 15 equi-sized ranges.\"\n",
    "\n",
    "When we try to replicate this (moteid and 15 equi-sized ranges for humidity/light/voltage), we get a not-quite-replicated result. Specifically, the top single-column explanation becomes `voltage >= 2.32 AND voltage < 2.3291`. This is similar to the range in the Scorpion paper, but surprisingly it ranks higher than `moteid = 15` alone. `moteid = 15` (the one identified in the paper) is the 4th top explanation, behind voltage/humidity/voltage.\n",
    "\n",
    "Why might this be?\n",
    "* This DIFF implementation is new. Perhaps there's a bug?\n",
    "* We're trying to replicate Scorpion with an implementation of DIFF. Perhaps the artistic license I'm taking to do that (the temperature values I'm thresholding on, using the risk ratio instead of Scorpion's metric) can explain the difference in results.\n",
    "* Skeptically, I wonder if we should have even considered humidity/light/voltage as reasons. I don't know electronics well, but if a sensor is failing to measure temperature, won't it also fail to measure things like humidity? If so, those can't be used as explanations of a poor temperature rating, so why are we considering them?"
   ]
  },
  {
   "cell_type": "code",
   "execution_count": 10,
   "id": "8ce80ccc-7b9e-4936-8fea-19be597ae4d2",
   "metadata": {},
   "outputs": [
    {
     "name": "stdout",
     "output_type": "stream",
     "text": [
      "Explanation(predicates=(Predicate(voltage GTEQ 2.32), Predicate(voltage LT 2.3291)), risk_ratio=732.5350873788292)\n",
      "Explanation(predicates=(Predicate(humidity GTEQ -3.91901), Predicate(humidity LT -1.3392)), risk_ratio=688.1392174704278)\n",
      "Explanation(predicates=(Predicate(voltage GTEQ 2.31097), Predicate(voltage LT 2.32)), risk_ratio=413.2085152838428)\n",
      "Explanation(predicates=(Predicate(moteid EQUALS 15),), risk_ratio=404.8320855614973)\n",
      "Explanation(predicates=(Predicate(humidity GTEQ -1.3392), Predicate(humidity LT 1.13812)), risk_ratio=378.017473789316)\n",
      "Explanation(predicates=(Predicate(humidity GTEQ 2.80408), Predicate(humidity LT 8.13082)), risk_ratio=378.017473789316)\n",
      "Explanation(predicates=(Predicate(humidity GTEQ 1.13812), Predicate(humidity LT 2.80408)), risk_ratio=377.6413965087282)\n",
      "Explanation(predicates=(Predicate(voltage LT 2.30202),), risk_ratio=373.6497102499095)\n",
      "Explanation(predicates=(Predicate(humidity LT -3.91901),), risk_ratio=373.6124796373681)\n",
      "Explanation(predicates=(Predicate(voltage GTEQ 2.30202), Predicate(voltage LT 2.31097)), risk_ratio=361.1173104434907)\n",
      "Explanation(predicates=(Predicate(moteid EQUALS 18),), risk_ratio=200.5765335449176)\n",
      "Explanation(predicates=(Predicate(light GTEQ 68.08), Predicate(light LT 71.76)), risk_ratio=16.867242674382098)\n",
      "Explanation(predicates=(Predicate(light GTEQ 71.76), Predicate(light LT 79.12)), risk_ratio=14.784373601238785)\n",
      "Explanation(predicates=(Predicate(light GTEQ 478.4), Predicate(light LT 537.28)), risk_ratio=3.883203960537754)\n",
      "Explanation(predicates=(Predicate(light GTEQ 1670.72),), risk_ratio=2.1315934324307526)\n"
     ]
    }
   ],
   "source": [
    "candidates = diff(\n",
    "        engine=engine,\n",
    "        test_relation='SELECT moteid, temperature, humidity, light, voltage FROM readings WHERE temperature > 100 AND day > \"2004-03-01\" and day < \"2004-03-10\"',\n",
    "        control_relation='SELECT moteid, temperature, humidity, light, voltage FROM readings WHERE temperature <= 100 AND day > \"2004-03-01\" and day < \"2004-03-10\"',\n",
    "        on_column_values={Column('moteid'),},\n",
    "        on_column_ranges={Column('humidity'), Column('light'), Column('voltage'),},\n",
    "        min_support=0.05,\n",
    "        min_risk_ratio=2.0,\n",
    "        max_order=1)\n",
    "for candidate in candidates:\n",
    "    print(candidate)"
   ]
  },
  {
   "cell_type": "code",
   "execution_count": 9,
   "id": "0806130b-5799-4b68-be14-9d46eb4e5ea5",
   "metadata": {},
   "outputs": [
    {
     "name": "stdout",
     "output_type": "stream",
     "text": [
      "rm: cannot remove 'data.txt*': No such file or directory\n",
      "rm: cannot remove 'intel-sensor.sqlite*': No such file or directory\n"
     ]
    }
   ],
   "source": [
    "!rm data.txt* intel-sensor.sqlite*"
   ]
  }
 ],
 "metadata": {
  "kernelspec": {
   "display_name": "Python 3 (ipykernel)",
   "language": "python",
   "name": "python3"
  },
  "language_info": {
   "codemirror_mode": {
    "name": "ipython",
    "version": 3
   },
   "file_extension": ".py",
   "mimetype": "text/x-python",
   "name": "python",
   "nbconvert_exporter": "python",
   "pygments_lexer": "ipython3",
   "version": "3.8.10"
  }
 },
 "nbformat": 4,
 "nbformat_minor": 5
}
