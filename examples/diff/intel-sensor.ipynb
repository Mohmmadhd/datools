{
 "cells": [
  {
   "cell_type": "code",
   "execution_count": 3,
   "id": "087dd353-4303-4d31-8ed6-a26af1e63825",
   "metadata": {},
   "outputs": [],
   "source": [
    "import sys\n",
    "!{sys.executable} -m pip install sqlite-utils"
   ]
  },
  {
   "cell_type": "code",
   "execution_count": 3,
   "id": "9a5f86e3-548c-4154-8e76-23ee5e5b9fa2",
   "metadata": {},
   "outputs": [
    {
     "name": "stdout",
     "output_type": "stream",
     "text": [
      "--2021-11-20 20:16:31--  http://db.csail.mit.edu/labdata/data.txt.gz\n",
      "Resolving db.csail.mit.edu (db.csail.mit.edu)... 128.52.128.91\n",
      "Connecting to db.csail.mit.edu (db.csail.mit.edu)|128.52.128.91|:80... connected.\n",
      "HTTP request sent, awaiting response... 200 OK\n",
      "Length: 34422518 (33M) [application/x-gzip]\n",
      "Saving to: ‘data.txt.gz.2’\n",
      "\n",
      "data.txt.gz.2       100%[===================>]  32.83M  90.5MB/s    in 0.4s    \n",
      "\n",
      "2021-11-20 20:16:31 (90.5 MB/s) - ‘data.txt.gz.2’ saved [34422518/34422518]\n",
      "\n",
      "date time epoch moteid temperature humidity light voltage\n",
      "2004-03-31 03:38:15.757551 2 1 122.153 -3.91901 11.04 2.03397\n",
      "2004-02-28 00:59:16.02785 3 1 19.9884 37.0933 45.08 2.69964\n",
      "2004-02-28 01:03:16.33393 11 1 19.3024 38.4629 45.08 2.68742\n",
      "2004-02-28 01:06:16.013453 17 1 19.1652 38.8039 45.08 2.68742\n",
      "2004-02-28 01:06:46.778088 18 1 19.175 38.8379 45.08 2.69964\n",
      "2004-02-28 01:08:45.992524 22 1 19.1456 38.9401 45.08 2.68742\n",
      "2004-02-28 01:09:22.323858 23 1 19.1652 38.872 45.08 2.68742\n",
      "2004-02-28 01:09:46.109598 24 1 19.1652 38.8039 45.08 2.68742\n",
      "2004-02-28 01:10:16.6789 25 1 19.1456 38.8379 45.08 2.69964\n"
     ]
    }
   ],
   "source": [
    "!wget http://db.csail.mit.edu/labdata/data.txt.gz\n",
    "!gunzip data.txt.gz\n",
    "!sed -i '1s/^/date time epoch moteid temperature humidity light voltage\\n/' data.txt\n",
    "!head data.txt"
   ]
  },
  {
   "cell_type": "code",
   "execution_count": 7,
   "id": "55251c8c-f3d8-4f14-b1d4-84df3ec1bf1e",
   "metadata": {},
   "outputs": [
    {
     "name": "stdout",
     "output_type": "stream",
     "text": [
      "\u001b[?25l  [####################################]  100%          "
     ]
    }
   ],
   "source": [
    "!sqlite-utils insert intel-sensor.sqlite readings data.txt --csv --sniff --detect-types"
   ]
  },
  {
   "cell_type": "code",
   "execution_count": 9,
   "id": "7ec0a538-b0b2-440e-89d6-76af6a33446f",
   "metadata": {},
   "outputs": [
    {
     "name": "stdout",
     "output_type": "stream",
     "text": [
      "CREATE TABLE \"readings\" (\n",
      "   [date] TEXT,\n",
      "   [time] TEXT,\n",
      "   [epoch] INTEGER,\n",
      "   [moteid] INTEGER,\n",
      "   [temperature] FLOAT,\n",
      "   [humidity] FLOAT,\n",
      "   [light] FLOAT,\n",
      "   [voltage] FLOAT\n",
      ");\n"
     ]
    }
   ],
   "source": [
    "!sqlite-utils schema intel-sensor.sqlite"
   ]
  },
  {
   "cell_type": "code",
   "execution_count": 20,
   "id": "ffe2eb30-8b51-481b-9d9f-7e101b898c02",
   "metadata": {},
   "outputs": [
    {
     "name": "stdout",
     "output_type": "stream",
     "text": [
      "*** high temp ***\n",
      "+------------+\n",
      "|   COUNT(*) |\n",
      "|------------|\n",
      "|     384344 |\n",
      "+------------+\n",
      "*** low temp ***\n",
      "+------------+\n",
      "|   COUNT(*) |\n",
      "|------------|\n",
      "|    1929338 |\n",
      "+------------+\n",
      "[Explanation(predicates=(Predicate(left=Column(name='moteid'), operator=<Operator.EQUALS: 1>, right=''),), risk_ratio=6.0266896636174865), Explanation(predicates=(Predicate(left=Column(name='moteid'), operator=<Operator.EQUALS: 1>, right=5),), risk_ratio=6.020267492388957), Explanation(predicates=(Predicate(left=Column(name='moteid'), operator=<Operator.EQUALS: 1>, right=57),), risk_ratio=6.01984950903102), Explanation(predicates=(Predicate(left=Column(name='moteid'), operator=<Operator.EQUALS: 1>, right=6485),), risk_ratio=6.019823387382137), Explanation(predicates=(Predicate(left=Column(name='moteid'), operator=<Operator.EQUALS: 1>, right=65407),), risk_ratio=6.019823387382137)]\n"
     ]
    }
   ],
   "source": [
    "from sqlalchemy import create_engine\n",
    "from datools.explanation.algorithms import diff\n",
    "from datools.models import Column\n",
    "from datools.sqlalchemy_utils import query_results_pretty_print\n",
    "\n",
    "engine = create_engine('sqlite:///intel-sensor.sqlite')\n",
    "\n",
    "query_results_pretty_print(\n",
    "    engine, \n",
    "    'SELECT COUNT(*) FROM readings  WHERE temperature >= 100',\n",
    "    'high temp')\n",
    "\n",
    "query_results_pretty_print(\n",
    "    engine, \n",
    "    'SELECT COUNT(*) FROM readings  WHERE temperature < 100',\n",
    "    'low temp')\n",
    "\n",
    "\n",
    "candidates = diff(\n",
    "        engine,\n",
    "        'SELECT moteid FROM readings WHERE temperature >= 100',\n",
    "        'SELECT moteid FROM readings WHERE temperature < 100',\n",
    "        (Column('moteid'),),\n",
    "        0,\n",
    "        2.0,\n",
    "        1)\n",
    "print(candidates)"
   ]
  },
  {
   "cell_type": "code",
   "execution_count": null,
   "id": "0806130b-5799-4b68-be14-9d46eb4e5ea5",
   "metadata": {},
   "outputs": [],
   "source": [
    "!rm data.txt* intel-sensor.sqlite*"
   ]
  },
  {
   "cell_type": "code",
   "execution_count": 6,
   "id": "c69c5a44-f223-41fc-ac7a-562d4494e871",
   "metadata": {},
   "outputs": [],
   "source": []
  },
  {
   "cell_type": "code",
   "execution_count": null,
   "id": "7b1f882c-58f2-437d-866e-7f0287b30db2",
   "metadata": {},
   "outputs": [],
   "source": []
  }
 ],
 "metadata": {
  "kernelspec": {
   "display_name": "Python 3 (ipykernel)",
   "language": "python",
   "name": "python3"
  },
  "language_info": {
   "codemirror_mode": {
    "name": "ipython",
    "version": 3
   },
   "file_extension": ".py",
   "mimetype": "text/x-python",
   "name": "python",
   "nbconvert_exporter": "python",
   "pygments_lexer": "ipython3",
   "version": "3.8.10"
  }
 },
 "nbformat": 4,
 "nbformat_minor": 5
}
